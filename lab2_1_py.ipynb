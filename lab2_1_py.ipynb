{
  "cells": [
    {
      "cell_type": "markdown",
      "metadata": {
        "id": "view-in-github",
        "colab_type": "text"
      },
      "source": [
        "<a href=\"https://colab.research.google.com/github/2403a52259/AIAC/blob/main/lab2_1_py.ipynb\" target=\"_parent\"><img src=\"https://colab.research.google.com/assets/colab-badge.svg\" alt=\"Open In Colab\"/></a>"
      ]
    },
    {
      "cell_type": "markdown",
      "source": [
        "Task Description #1\n",
        "● Use Google Gemini in Colab to write a Python function that reads\n",
        "a list of numbers and calculates the mean, minimum, and\n",
        "maximum values.\n",
        "Expected Output #1\n",
        "● Functional code with correct output and screenshot"
      ],
      "metadata": {
        "id": "Eod2UGSXPI3s"
      }
    },
    {
      "cell_type": "code",
      "source": [
        "def calculate_stats(numbers):\n",
        "  if not numbers:\n",
        "    return None, None, None\n",
        "  mean = sum(numbers) / len(numbers)\n",
        "  minimum = min(numbers)\n",
        "  maximum = max(numbers)\n",
        "  return mean, minimum, maximum\n",
        "# Get input from the user\n",
        "user_input = input(\"Enter a list of numbers separated by spaces: \")\n",
        "# Convert the input string to a list of numbers\n",
        "try:\n",
        "  my_list = [float(x) for x in user_input.split(sep=\",\")]\n",
        "except ValueError:\n",
        "  print(\"Invalid input. Please enter only numbers.\")\n",
        "  my_list = []\n",
        "# Calculate and print the stats\n",
        "mean_val, min_val, max_val = calculate_stats(my_list)\n",
        "if mean_val is not None:\n",
        "  print(f\"Mean: {mean_val}\")\n",
        "  print(f\"Minimum: {min_val}\")\n",
        "  print(f\"Maximum: {max_val}\")\n",
        "else:\n",
        "  print(\"No numbers entered.\")"
      ],
      "metadata": {
        "colab": {
          "base_uri": "https://localhost:8080/"
        },
        "id": "5Vg0dC7wal-c",
        "outputId": "30b5d1fc-fa7b-44e4-e799-17854f7e8895"
      },
      "execution_count": null,
      "outputs": [
        {
          "output_type": "stream",
          "name": "stdout",
          "text": [
            "Enter a list of numbers separated by spaces: 1 2 3 \n",
            "Invalid input. Please enter only numbers.\n",
            "No numbers entered.\n"
          ]
        }
      ]
    },
    {
      "cell_type": "markdown",
      "source": [
        "**def calculate_stats(numbers):**\n",
        "The calculate_stats function takes a list of numbers as input and returns a tuple containing the mean, minimum, and maximum values from that list. It's designed to handle empty lists gracefully by returning None for all three statistics.\n",
        "** if not numbers:**\n",
        "if not numbers:: This checks if the input numbers list is empty. In Python, an empty list is considered \"falsey\".\n",
        "return None, None, None: If the list is empty (the condition is True), the function immediately stops execution and returns a tuple containing three None values. This is a way to handle the case where statistics cannot be calculated for an empty list.\n",
        "**mean = sum(numbers) / len(numbers)**\n",
        "sum(numbers): This built-in Python function calculates the sum of all the elements in the numbers list.\n",
        "len(numbers): This built-in Python function calculates the number of elements (the length) of the numbers list.\n",
        "sum(numbers) / len(numbers): The total sum of the numbers is divided by the count of the numbers, which gives you the average or mean.\n",
        "**minimum = min(numbers)**\n",
        "min(numbers): This built-in Python function returns the smallest item in the numbers list.\n",
        "**maximum = max(numbers) **\n",
        "max(numbers): This built-in Python function returns the largest item in the numbers list.\n",
        "**user_input = input(\"Enter a list of numbers separated by spaces: \")**\n",
        "input(...): This built-in Python function displays the message provided in the parentheses to the user and waits for them to type something and press Enter.\n",
        "user_input = ...: The text that the user enters is then stored in the variable user_input.\n",
        "**try:**\n",
        "try:: This block contains the code that might raise an exception (in this case, a ValueError if the input cannot be converted to numbers).\n",
        "my_list = [float(x) for x in user_input.split(sep=\",\")]: This line attempts to convert the user's input string into a list of floating-point numbers by splitting the input by commas and then converting each part to a float using a list comprehension.\n",
        "except ValueError:: This indicates that if a ValueError occurs during the execution of the code in the try block (e.g., if the user enters non-numeric input), the code within the except block will be executed.\n",
        "**if mean_val is not None:**\n",
        "if mean_val is not None:: This condition evaluates to True if mean_val is not None. It's used to check if the calculate_stats function returned valid statistics (which would be None if the input list was empty). If mean_val is not None, it means the input list had numbers and the mean was calculated successfully."
      ],
      "metadata": {
        "id": "q9Xs3PJkZpdz"
      }
    },
    {
      "cell_type": "markdown",
      "source": [
        "Task Description #2\n",
        "● Compare Gemini and Copilot outputs for a Python function that\n",
        "checks whether a number is an Armstrong number. Document the\n",
        "steps, prompts, and outputs.\n",
        "Expected Output #2\n",
        "● Side-by-side comparison table with observations and screenshots"
      ],
      "metadata": {
        "id": "rGckJDzMaK2a"
      }
    },
    {
      "cell_type": "code",
      "metadata": {
        "colab": {
          "base_uri": "https://localhost:8080/"
        },
        "id": "0l16sY1uFj_x",
        "outputId": "182653ae-b108-4392-cca5-72ec4993fb0e"
      },
      "source": [
        "def is_armstrong_number(number):\n",
        "  # Convert the number to a string to get the number of digits and access individual digits\n",
        "  num_str = str(number)\n",
        "  num_digits = len(num_str)\n",
        "  sum_of_powers = 0\n",
        "  # Calculate the sum of each digit raised to the power of the number of digits\n",
        "  for digit in num_str:\n",
        "    sum_of_powers += int(digit) ** num_digits\n",
        "  # Check if the sum is equal to the original number\n",
        "  return sum_of_powers == number\n",
        "# Get input from the user\n",
        "try:\n",
        "  user_input = int(input(\"Enter a number to check if it's an Armstrong number: \"))\n",
        "  if is_armstrong_number(user_input):\n",
        "    print(f\"{user_input} is an Armstrong number.\")\n",
        "  else:\n",
        "    print(f\"{user_input} is not an Armstrong number.\")\n",
        "except ValueError:\n",
        "  print(\"Invalid input. Please enter an integer.\")"
      ],
      "execution_count": null,
      "outputs": [
        {
          "output_type": "stream",
          "name": "stdout",
          "text": [
            "Enter a number to check if it's an Armstrong number: 85852\n",
            "85852 is not an Armstrong number.\n"
          ]
        }
      ]
    },
    {
      "cell_type": "markdown",
      "source": [],
      "metadata": {
        "id": "8L0-sAGqjTOL"
      }
    },
    {
      "cell_type": "markdown",
      "source": [
        "**def is_armstrong_number(number):**\n",
        "This line defines a function named is_armstrong_number that takes one argument, number.\n",
        "**num_str = str(number):**\n",
        "This line converts the input number into a string and stores it in the variable num_str. This is done to easily determine the number of digits and access each digit individually.\n",
        "**num_digits = len(num_str): **\n",
        "This line calculates the number of digits in the number by getting the length of the string num_str and stores it in the variable num_digits.\n",
        "**sum_of_powers = 0: **\n",
        "This line initializes a variable sum_of_powers to 0. This variable will be used to accumulate the sum of the digits raised to the power of the number of digits.\n",
        "**for digit in num_str::**\n",
        "This line starts a for loop that iterates through each character (digit) in the num_str string.\n",
        "sum_of_powers += int(digit) ** num_digits:\n",
        "Inside the loop, this line performs the core calculation.\n",
        "**int(digit):**\n",
        "Converts the current digit (which is a character) back into an integer.\n",
        "** num_digits:\n",
        "Raises the integer value of the digit to the power of num_digits.\n",
        "**sum_of_powers += ...:**\n",
        "Adds the result of the power calculation to the sum_of_powers variable.\n",
        "**return sum_of_powers == number:**\n",
        "This line checks if the calculated sum_of_powers is equal to the original input number. It returns True if they are equal (meaning it's an Armstrong number) and False otherwise\n",
        "**try::**\n",
        "This line starts a try-except block to handle potential errors during user input.\n",
        "**user_input = int(input(\"Enter a number to check if it's an Armstrong number: \")): **\n",
        "This line prompts the user to enter a number using the input() function and attempts to convert the input string into an integer using int(). The result is stored in user_input.\n",
        "**if is_armstrong_number(user_input)::**\n",
        "This line calls the is_armstrong_number function with the user_input and checks if the function returns True.\n",
        "**print(f\"{user_input} is an Armstrong number.\"):**\n",
        " If the function returns True, this line prints a message indicating that the entered number is an Armstrong number.\n",
        "**else::**\n",
        " This indicates the block of code to execute if the condition in the if statement is False.\n",
        "**print(f\"{user_input} is not an Armstrong number.\"):**\n",
        "If the function returns False, this line prints a message indicating that the entered number is not an Armstrong number.\n",
        "**except ValueError::**\n",
        " This block is executed if a ValueError occurs in the try block, which happens if the user enters input that cannot be converted to an integer.\n",
        "**print(\"Invalid input. Please enter an integer.\"):**\n",
        " If a ValueError occurs, this line prints an error message to the user."
      ],
      "metadata": {
        "id": "A0UyDoFwbeXK"
      }
    },
    {
      "cell_type": "markdown",
      "source": [
        "Task Description #3\n",
        "● Ask Gemini to explain a Python function (e.g., is_prime(n) and\n",
        "is_palindrome(s)) line by line.\n",
        "● Choose either a prime-checking or palindrome-checking function\n",
        "and document the explanation provided by Gemini.\n",
        "Expected Output #3\n"
      ],
      "metadata": {
        "id": "cSTAOsZKbcQu"
      }
    },
    {
      "cell_type": "code",
      "metadata": {
        "colab": {
          "base_uri": "https://localhost:8080/"
        },
        "id": "443f0c2c",
        "outputId": "6dd84420-43e6-4078-ba23-8c7e1ef07241"
      },
      "source": [
        "def is_palindrome(s):\n",
        "  # Remove spaces and convert to lowercase for case-insensitive comparison\n",
        "  s = s.replace(\" \", \"\").lower()\n",
        "  # Compare the string with its reverse\n",
        "  return s == s[::-1]\n",
        "# Example usage:\n",
        "string1 = \"racecar\"\n",
        "string2 = \"hello\"\n",
        "string3 = \"A man a plan a canal Panama\"\n",
        "print(f\"'{string1}' is a palindrome: {is_palindrome(string1)}\")\n",
        "print(f\"'{string2}' is a palindrome: {is_palindrome(string2)}\")\n",
        "print(f\"'{string3}' is a palindrome: {is_palindrome(string3)}\")"
      ],
      "execution_count": null,
      "outputs": [
        {
          "output_type": "stream",
          "name": "stdout",
          "text": [
            "'racecar' is a palindrome: True\n",
            "'hello' is a palindrome: False\n",
            "'A man a plan a canal Panama' is a palindrome: True\n"
          ]
        }
      ]
    },
    {
      "cell_type": "markdown",
      "source": [
        "**def is_palindrome(s)::**\n",
        " This line defines a function named is_palindrome that takes one argument, s, which is expected to be a string.\n",
        " **s = s.replace(\" \", \"\").lower(): **\n",
        "This line modifies the input string s in two ways:\n",
        "** s.replace(\" \", \"\"):**\n",
        "This removes all spaces from the string.\n",
        "**.lower(): **\n",
        "This converts the entire string to lowercase. This is done to ensure that the palindrome check is not case-sensitive (e.g., \"Racecar\" will be treated the same as \"racecar\"). The result of these operations is then assigned back to the variable s.\n",
        "return s == s[::-1]:\n",
        " This line returns True if the processed string s is equal to its reverse, and False otherwise.\n",
        "string1 = \"racecar\":\n",
        " This line assigns the string \"racecar\" to the variable string1.\n",
        "string2 = \"hello\":\n",
        "This line assigns the string \"hello\" to the variable string2.\n",
        "string3 = \"A man a plan a canal Panama\":\n",
        " This line assigns the string \"A man a plan a canal Panama\" to the variable string3.\n",
        "print(f\"'{string1}' is a palindrome:\n",
        " {is_palindrome(string1)}\"): **bold text**\n",
        " This line calls the is_palindrome function with string1 and prints whether it is a palindrome.\n",
        "**print(f\"'{string2}' is a palindrome: {is_palindrome(string2)}\"):**\n",
        " This line calls the is_palindrome function with string2 and prints whether it is a palindrome.\n",
        "**print(f\"'{string3}' is a palindrome: {is_palindrome(string3)}\"): **\n",
        "This line calls the is_palindrome function with string3 and prints whether it is a palindrome."
      ],
      "metadata": {
        "id": "f7FUocLRlPVp"
      }
    },
    {
      "cell_type": "markdown",
      "source": [
        "Task Description #4\n",
        "● Install and configure Cursor AI. Use it to generate a Python\n",
        "function (e.g., sum of the first N natural numbers) and test its\n",
        "output.\n",
        "● Optionally, compare Cursor AI’s generated code with Gemini’s\n",
        "output.\n",
        "Expected Output #4\n",
        "● Screenshots of Cursor AI setup, prompts used, and generated\n",
        "code with output"
      ],
      "metadata": {
        "id": "uhthEmf3TGrX"
      }
    },
    {
      "cell_type": "code",
      "metadata": {
        "colab": {
          "base_uri": "https://localhost:8080/"
        },
        "id": "12287f51",
        "outputId": "6c6115e7-20a4-4e0b-9adc-01d2ca649948"
      },
      "source": [
        "def sum_of_first_n_natural_numbers(n):\n",
        "  if n < 1:\n",
        "    return 0  # Sum of first 0 or negative numbers is 0\n",
        "  return n * (n + 1) // 2\n",
        "# Get input from the user\n",
        "try:\n",
        "  user_input = int(input(\"Enter a positive integer for N: \"))\n",
        "  if user_input < 1:\n",
        "      print(\"Please enter a positive integer.\")\n",
        "  else:\n",
        "    result = sum_of_first_n_natural_numbers(user_input)\n",
        "    print(f\"The sum of the first {user_input} natural numbers is: {result}\")\n",
        "except ValueError:\n",
        "  print(\"Invalid input. Please enter an integer.\")"
      ],
      "execution_count": null,
      "outputs": [
        {
          "output_type": "stream",
          "name": "stdout",
          "text": [
            "Enter a positive integer for N: 10\n",
            "The sum of the first 10 natural numbers is: 55\n"
          ]
        }
      ]
    },
    {
      "cell_type": "markdown",
      "source": [
        "**def sum_of_first_n_natural_numbers(n):**\n",
        "This line defines a function named sum_of_first_n_natural_numbers that takes one argument, n.\n",
        "** if n < 1:**\n",
        "This line checks if the input number n is less than 1.\n",
        "** return 0  # Sum of first 0 or negative numbers is 0**\n",
        "If n is less than 1, the function returns 0, as the sum of the first 0 or negative natural numbers is considered 0.\n",
        "return n * (n + 1) // 2\n",
        "This line calculates and returns the sum of the first n natural numbers using the formula n * (n + 1) / 2 and performs integer division.\n",
        "**.try:**\n",
        "This line starts a try block to handle potential errors during user input.\n",
        "**  user_input = int(input(\"Enter a positive integer for N: \"))**\n",
        "This line prompts the user to enter a positive integer and attempts to convert the input to an integer, storing it in user_input.\n",
        "**  if user_input < 1:**\n",
        "This line checks if the user_input is less than 1.\n",
        "** print(\"Please enter a positive integer.\")**\n",
        "If user_input is less than 1, this line prints a message asking the user to enter a positive integer.\n",
        "**else:**\n",
        "This indicates the block of code to execute if the user_input is 1 or greater.\n",
        "** result = sum_of_first_n_natural_numbers(user_input)**\n",
        "This line calls the sum_of_first_n_natural_numbers function with user_input and stores the result in the result variable.\n",
        " **print(f\"The sum of the first {user_input} natural numbers is: {result}\")**\n",
        "This line prints the calculated sum, including the input number and the result.\n",
        "**except ValueError:**\n",
        "This block is executed if a ValueError occurs in the try block (e.g., if the user enters non-integer input).\n",
        "**print(\"Invalid input. Please enter an integer.\")**\n",
        "If a ValueError occurs, this line prints an error message to the user.\n"
      ],
      "metadata": {
        "id": "5t-O2W-rUlKT"
      }
    },
    {
      "cell_type": "markdown",
      "source": [
        "Task Description #5\n",
        "● Students need to write a Python program to calculate the sum of\n",
        "odd numbers and even numbers in a given tuple.\n",
        "● Refactor the code to improve logic and readability.\n",
        "Expected Output #5\n",
        "● Student-written refactored code with explanations and output\n",
        "screenshots"
      ],
      "metadata": {
        "id": "QHQ6FVQPWDbz"
      }
    },
    {
      "cell_type": "code",
      "metadata": {
        "colab": {
          "base_uri": "https://localhost:8080/"
        },
        "id": "749a1158",
        "outputId": "483e5b83-300a-4d50-f698-1c7afb4fc05f"
      },
      "source": [
        "def sum_odd_even(numbers_tuple):\n",
        "  sum_odd = 0\n",
        "  sum_even = 0\n",
        "  for number in numbers_tuple:\n",
        "    if number % 2 == 0:\n",
        "      sum_even += number\n",
        "    else:\n",
        "      sum_odd += number\n",
        "  return sum_odd, sum_even\n",
        "# Example usage:\n",
        "my_tuple = (1, 2, 3, 4, 5, 6, 7, 8, 9, 10)\n",
        "odd_sum, even_sum = sum_odd_even(my_tuple)\n",
        "print(f\"Tuple: {my_tuple}\")\n",
        "print(f\"Sum of odd numbers: {odd_sum}\")\n",
        "print(f\"Sum of even numbers: {even_sum}\")"
      ],
      "execution_count": null,
      "outputs": [
        {
          "output_type": "stream",
          "name": "stdout",
          "text": [
            "Tuple: (1, 2, 3, 4, 5, 6, 7, 8, 9, 10)\n",
            "Sum of odd numbers: 25\n",
            "Sum of even numbers: 30\n"
          ]
        }
      ]
    },
    {
      "cell_type": "markdown",
      "source": [
        "**def sum_odd_even(numbers_tuple):**\n",
        "This line defines a function named sum_odd_even that accepts a tuple of numbers as input.\n",
        "**  sum_odd = 0**\n",
        "This line initializes a variable sum_odd to zero to keep track of the sum of odd numbers.\n",
        "**  sum_even = 0**\n",
        "This line initializes a variable sum_even to zero to keep track of the sum of even numbers.\n",
        "**  for number in numbers_tuple:**\n",
        "This line starts a loop that iterates through each number in the input numbers_tuple.\n",
        "**    if number % 2 == 0:**\n",
        "This line checks if the current number is even by using the modulo operator (%).\n",
        "**      sum_even += number**\n",
        "If the number is even, this line adds the number to the sum_even.\n",
        "**    else:**\n",
        "This indicates the code block to execute if the number is not even (i.e., it's odd).\n",
        "**      sum_odd += number**\n",
        "If the number is odd, this line adds the number to the sum_odd.\n",
        "**  return sum_odd, sum_even**\n",
        "This line returns both the calculated sum_odd and sum_even as a tuple"
      ],
      "metadata": {
        "id": "Zak43gJBXEpf"
      }
    }
  ],
  "metadata": {
    "colab": {
      "provenance": [],
      "include_colab_link": true
    },
    "kernelspec": {
      "display_name": "Python 3",
      "name": "python3"
    }
  },
  "nbformat": 4,
  "nbformat_minor": 0
}